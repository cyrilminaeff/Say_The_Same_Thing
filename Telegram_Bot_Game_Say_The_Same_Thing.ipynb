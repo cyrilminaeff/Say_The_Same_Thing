{
  "nbformat": 4,
  "nbformat_minor": 0,
  "metadata": {
    "colab": {
      "name": "Telegram Bot Game - Say The Same Thing.ipynb",
      "provenance": [],
      "collapsed_sections": []
    },
    "kernelspec": {
      "name": "python3",
      "display_name": "Python 3"
    }
  },
  "cells": [
    {
      "cell_type": "markdown",
      "metadata": {
        "id": "efqPnoeAx4WR",
        "colab_type": "text"
      },
      "source": [
        "# Telegram Bot Game - Say The Same Thing\n",
        "\n",
        "https://www.youtube.com/watch?v=2sP1DqyagXE\n",
        "\n",
        "Bot rules:\n",
        "\n",
        "We send a new word at the same time.\n",
        "\n",
        "Every time you and me guess a new word by combing 2 previous words.\n",
        "\n",
        "If we guessed the same word - we WIN. If not - we continue until one of us give up...\n",
        "\n",
        "The first pair of words is random."
      ]
    },
    {
      "cell_type": "code",
      "metadata": {
        "id": "uHB6qFeUXKsT",
        "colab_type": "code",
        "colab": {
          "base_uri": "https://localhost:8080/",
          "height": 309
        },
        "outputId": "41e18f92-97b8-41b8-eefa-29c891fb763e"
      },
      "source": [
        "! pip install pytelegrambotapi"
      ],
      "execution_count": null,
      "outputs": [
        {
          "output_type": "stream",
          "text": [
            "Collecting pytelegrambotapi\n",
            "\u001b[?25l  Downloading https://files.pythonhosted.org/packages/16/1d/40c1fde174731bd58f014721a37c28d35210aa39c42c3e8b1659374a9bec/pyTelegramBotAPI-3.7.1.tar.gz (70kB)\n",
            "\r\u001b[K     |████▋                           | 10kB 14.0MB/s eta 0:00:01\r\u001b[K     |█████████▎                      | 20kB 1.8MB/s eta 0:00:01\r\u001b[K     |██████████████                  | 30kB 2.2MB/s eta 0:00:01\r\u001b[K     |██████████████████▋             | 40kB 2.5MB/s eta 0:00:01\r\u001b[K     |███████████████████████▎        | 51kB 2.0MB/s eta 0:00:01\r\u001b[K     |████████████████████████████    | 61kB 2.3MB/s eta 0:00:01\r\u001b[K     |████████████████████████████████| 71kB 2.0MB/s \n",
            "\u001b[?25hRequirement already satisfied: requests in /usr/local/lib/python3.6/dist-packages (from pytelegrambotapi) (2.23.0)\n",
            "Requirement already satisfied: six in /usr/local/lib/python3.6/dist-packages (from pytelegrambotapi) (1.12.0)\n",
            "Requirement already satisfied: certifi>=2017.4.17 in /usr/local/lib/python3.6/dist-packages (from requests->pytelegrambotapi) (2020.4.5.1)\n",
            "Requirement already satisfied: chardet<4,>=3.0.2 in /usr/local/lib/python3.6/dist-packages (from requests->pytelegrambotapi) (3.0.4)\n",
            "Requirement already satisfied: idna<3,>=2.5 in /usr/local/lib/python3.6/dist-packages (from requests->pytelegrambotapi) (2.9)\n",
            "Requirement already satisfied: urllib3!=1.25.0,!=1.25.1,<1.26,>=1.21.1 in /usr/local/lib/python3.6/dist-packages (from requests->pytelegrambotapi) (1.24.3)\n",
            "Building wheels for collected packages: pytelegrambotapi\n",
            "  Building wheel for pytelegrambotapi (setup.py) ... \u001b[?25l\u001b[?25hdone\n",
            "  Created wheel for pytelegrambotapi: filename=pyTelegramBotAPI-3.7.1-cp36-none-any.whl size=50883 sha256=5a629992f4b4a53d5f4d6f7dfcff96718fa9eb9c3cbacb235eca86569e0a01e9\n",
            "  Stored in directory: /root/.cache/pip/wheels/cd/b2/2c/eac6af3343b21f907123ce013d20ad5ad70c2c3731072d98bf\n",
            "Successfully built pytelegrambotapi\n",
            "Installing collected packages: pytelegrambotapi\n",
            "Successfully installed pytelegrambotapi-3.7.1\n"
          ],
          "name": "stdout"
        }
      ]
    },
    {
      "cell_type": "code",
      "metadata": {
        "id": "IpAuepTYYvAb",
        "colab_type": "code",
        "colab": {}
      },
      "source": [
        "import telebot\n",
        "from gensim.models import KeyedVectors\n",
        "import numpy as np\n",
        "from random import choice as random_choice\n",
        "from sklearn.metrics.pairwise import cosine_similarity"
      ],
      "execution_count": null,
      "outputs": []
    },
    {
      "cell_type": "markdown",
      "metadata": {
        "id": "I-iJUC3FBwdt",
        "colab_type": "text"
      },
      "source": [
        "Загрузим обученную модель:"
      ]
    },
    {
      "cell_type": "code",
      "metadata": {
        "id": "athWf6lCms5u",
        "colab_type": "code",
        "colab": {
          "base_uri": "https://localhost:8080/",
          "height": 204
        },
        "outputId": "26666966-7289-4912-9445-6d12105e68b1"
      },
      "source": [
        "!wget -c \"https://s3.amazonaws.com/dl4j-distribution/GoogleNews-vectors-negative300.bin.gz\""
      ],
      "execution_count": null,
      "outputs": [
        {
          "output_type": "stream",
          "text": [
            "--2020-06-17 07:36:38--  https://s3.amazonaws.com/dl4j-distribution/GoogleNews-vectors-negative300.bin.gz\n",
            "Resolving s3.amazonaws.com (s3.amazonaws.com)... 52.216.89.5\n",
            "Connecting to s3.amazonaws.com (s3.amazonaws.com)|52.216.89.5|:443... connected.\n",
            "HTTP request sent, awaiting response... 200 OK\n",
            "Length: 1647046227 (1.5G) [application/x-gzip]\n",
            "Saving to: ‘GoogleNews-vectors-negative300.bin.gz’\n",
            "\n",
            "GoogleNews-vectors- 100%[===================>]   1.53G  92.8MB/s    in 18s     \n",
            "\n",
            "2020-06-17 07:36:56 (89.6 MB/s) - ‘GoogleNews-vectors-negative300.bin.gz’ saved [1647046227/1647046227]\n",
            "\n"
          ],
          "name": "stdout"
        }
      ]
    },
    {
      "cell_type": "code",
      "metadata": {
        "id": "BhJ6XaUsklqe",
        "colab_type": "code",
        "colab": {
          "base_uri": "https://localhost:8080/",
          "height": 71
        },
        "outputId": "b07978d4-28bd-4064-fdbb-e3278409b0ed"
      },
      "source": [
        "word2vec = KeyedVectors.load_word2vec_format(fname='GoogleNews-vectors-negative300.bin.gz', limit=200000, binary=True)"
      ],
      "execution_count": null,
      "outputs": [
        {
          "output_type": "stream",
          "text": [
            "/usr/local/lib/python3.6/dist-packages/smart_open/smart_open_lib.py:253: UserWarning: This function is deprecated, use smart_open.open instead. See the migration notes for details: https://github.com/RaRe-Technologies/smart_open/blob/master/README.rst#migrating-to-the-new-open-function\n",
            "  'See the migration notes for details: %s' % _MIGRATION_NOTES_URL\n"
          ],
          "name": "stderr"
        }
      ]
    },
    {
      "cell_type": "code",
      "metadata": {
        "id": "BJid4zIV8gu-",
        "colab_type": "code",
        "colab": {
          "base_uri": "https://localhost:8080/",
          "height": 54
        },
        "outputId": "f6c2f32b-2c23-4b74-e663-26a3b6e4f655"
      },
      "source": [
        "print(list(word2vec.vocab.keys())[500:700])"
      ],
      "execution_count": null,
      "outputs": [
        {
          "output_type": "stream",
          "text": [
            "['doing', 'face', 'low', 'higher', 'site', 'once', 'yet', 'hours', 'America', 'control', 'received', 'rate', 'career', 'Bush', 'teams', 'known', 'offer', 'race', 'ever', 'experience', 'playing', 'name', 'possible', 'countries', 'Mr.', 'average', 'together', 'using', '9', 'cut', 'While', 'total', 'round', 'young', 'nearly', 'shares', 'member', 'campaign', 'media', 'needs', 'why', 'house', 'issues', 'costs', 'fire', '##-#', 'victory', 'player', 'began', 'sure', 'story', 'per_cent', 'North', 'His', 'staff', 'order', 'war', 'large', 'interest', 'stock', 'food', 'research', 'key', 'India', 'South', 'morning', 'conference', 'senior', 'global', 'Center', 'death', 'person', 'thought', 'gave', 'feel', 'energy', 'history', 'recently', 'largest', 'No.', 'general', 'official', 'released', 'wanted', 'meet', 'short', 'outside', 'running', 'live', 'ball', 'online', 'real', 'position', 'fact', 'fell', 'nine', 'December', 'front', 'action', 'defense', 'problem', 'problems', 'Mr', 'nation', 'needed', 'special', 'January', 'almost', 'chance', \"'d\", 'result', 'West', 'September', 'reports', 'leader', 'investment', 'yesterday', 'Some', 'leaders', 'ahead', 'production', 'comes', 'No', 'runs', 'match', 'role', 'kind', 'try', 'ended', 'risk', 'areas', 'election', 'workers', 'visit', 'bring', 'road', 'music', 'study', 'makes', 'often', 'release', 'woman', 'vote', 'care', 'town', 'clear', 'comment', 'budget', 'potential', 'single', 'markets', 'policy', 'capital', 'saw', 'access', 'weekend', 'operations', 'whose', 'net', 'House', 'hand', 'increased', 'charges', 'winning', 'trade', 'These', 'income', 'value', 'involved', 'Bank', 'November', 'bill', 'compared', 'anything', 'manager', 'Texas', 'property', 'stop', 'annual', 'private', 'contract', 'died', 'Now', 'hope', 'product', 'fans', 'lower', 'demand', 'News', 'David', 'club', 'comments', 'film', 'yards', 'quality', 'currently', 'events', 'addition', 'couple', 'schools']\n"
          ],
          "name": "stdout"
        }
      ]
    },
    {
      "cell_type": "markdown",
      "metadata": {
        "id": "dDM7Ror-B3QZ",
        "colab_type": "text"
      },
      "source": [
        "Стэммер:"
      ]
    },
    {
      "cell_type": "code",
      "metadata": {
        "id": "Gx2-BOSoQATm",
        "colab_type": "code",
        "colab": {
          "base_uri": "https://localhost:8080/",
          "height": 85
        },
        "outputId": "55c7884e-3ff9-4d93-b9ff-7fcc8f9d6478"
      },
      "source": [
        "# from nltk.stem import PorterStemmer\n",
        "from nltk.stem import LancasterStemmer\n",
        "stemmer = LancasterStemmer()\n",
        "\n",
        "print(stemmer.stem('Miracle'))\n",
        "print(stemmer.stem('Miraculous'))\n",
        "\n",
        "print(stemmer.stem('puppy'))\n",
        "print(stemmer.stem('puppys'))"
      ],
      "execution_count": null,
      "outputs": [
        {
          "output_type": "stream",
          "text": [
            "mirac\n",
            "mirac\n",
            "puppy\n",
            "puppy\n"
          ],
          "name": "stdout"
        }
      ]
    },
    {
      "cell_type": "markdown",
      "metadata": {
        "id": "fyFbMAEnB8ki",
        "colab_type": "text"
      },
      "source": [
        "Игровой бот:"
      ]
    },
    {
      "cell_type": "code",
      "metadata": {
        "id": "6di6MKBbT91H",
        "colab_type": "code",
        "colab": {}
      },
      "source": [
        "API_TOKEN = 'XXXXXXXXXXXXXXXXXXXXXXXX'\n",
        "history = {}\n",
        "collection = {}\n",
        "first_word = list(word2vec.vocab.keys())[500:700]\n",
        "stemmer = LancasterStemmer() # выделение корня"
      ],
      "execution_count": null,
      "outputs": []
    },
    {
      "cell_type": "code",
      "metadata": {
        "id": "3w8azLUePKA_",
        "colab_type": "code",
        "colab": {}
      },
      "source": [
        "bot = telebot.TeleBot(API_TOKEN)\n",
        "\n",
        "@bot.message_handler(commands=['start'])\n",
        "def send_welcome(message):\n",
        "  bot.reply_to(message, \"This game is called <Say The Same Thing>... Let's start! Send me any english word.\")\n",
        "  if message.chat.id not in history.keys():\n",
        "    history[message.chat.id] = []\n",
        "    collection[message.chat.id] = set()\n",
        "\n",
        "\n",
        "@bot.message_handler(commands=['help'])\n",
        "def send_welcome(message):\n",
        "  rules =  'The rules are simple:\\n'\n",
        "  rules += 'We send a new word at the same time.\\n'\n",
        "  rules += 'Then every time you and me guess a new word by combing 2 previous words.\\n'\n",
        "  rules += 'If we guess the same word - we WIN. If not - we continue until one of us give up...\\n'\n",
        "  rules += 'The first pair of words is random.'\n",
        "  bot.reply_to(message, rules)\n",
        "  if message.chat.id not in history.keys():\n",
        "    history[message.chat.id] = []\n",
        "    collection[message.chat.id] = set()\n",
        "\n",
        "\n",
        "@bot.message_handler(commands=['replay'])\n",
        "def replay(message):\n",
        "  bot.reply_to(message, \"OK, let's start again! Send me any english word.\")\n",
        "  history[message.chat.id] = []\n",
        "  collection[message.chat.id] = set()\n",
        "\n",
        "\n",
        "@bot.message_handler(commands=['used_stems'])\n",
        "def used_stems(message):\n",
        "  used_stems = ', '.join(collection[message.chat.id])\n",
        "  bot.reply_to(message, \"Used stems:\\n{}\".format(used_stems))\n",
        "\n",
        "\n",
        "@bot.message_handler(func=lambda message: True)\n",
        "def echo_message(message):\n",
        "  chat_id = message.chat.id\n",
        "\n",
        "  if chat_id not in history.keys(): # если пользователя нет в базе\n",
        "    bot.reply_to(message, \"It seems you're new here or I forgot our last game... Let's start anyway!\")\n",
        "    history[chat_id] = []\n",
        "    collection[chat_id] = set()\n",
        "\n",
        "  user_word = message.text.lower()\n",
        "  if user_word not in word2vec: # если неизвестное слово\n",
        "    bot.reply_to(message, \"I don't know your word <{}>, please try another...\".format(user_word))\n",
        "  elif stemmer.stem(user_word) in collection[message.chat.id]: # если пользователь повторяет слово\n",
        "    bot.reply_to(message, \"We've already used the word <{}> or it's other form, please try another...\".format(user_word))\n",
        "  else:\n",
        "      if history[chat_id] == []: # если первая игра\n",
        "        nn_word = random_choice(first_word).lower()\n",
        "        reply_text = 'you: {:^15}\\nme: {:^15}'.format(user_word, nn_word)\n",
        "      else: # продолжение игры\n",
        "        old = history[chat_id]\n",
        "        nn_word = gen_word(chat_id)\n",
        "        user_sim = get_cos_sim(old[0], old[1], user_word)\n",
        "        nn_sim = get_cos_sim(old[0], old[1], nn_word)\n",
        "        reply_text = '{} + {} =\\nyou: {:^15} {:.3f}\\nme: {:^15}  {:.3f}'.format(\n",
        "            old[0], old[1], user_word, user_sim, nn_word, nn_sim)\n",
        "      \n",
        "      bot.reply_to(message, reply_text)\n",
        "      # print(reply_text) # подглядывание\n",
        "      history[chat_id] = [user_word, nn_word]\n",
        "      collection[chat_id].add(stemmer.stem(user_word))\n",
        "      collection[chat_id].add(stemmer.stem(nn_word))\n",
        "\n",
        "      if nn_word == 'I give up': # если сетка не смогла ничего предложить\n",
        "        bot.reply_to(message, 'I am sorry, I give up... :(')\n",
        "        replay(message)\n",
        "      \n",
        "      if stemmer.stem(user_word) == stemmer.stem(nn_word): # если выиграли\n",
        "        bot.reply_to(message, 'HOOORAY WE WON in {} steps!'.format(len(collection[chat_id])//2+1))\n",
        "        replay(message)\n",
        "\n",
        "\n",
        "def gen_word(chat_id):\n",
        "  old = history[chat_id]  # old[0] - user_word / old[1] - nn_word\n",
        "  vec = ( word2vec[old[0]] + word2vec[old[1]] ) / 2\n",
        "  top10 = word2vec.similar_by_vector(vec, topn=20)\n",
        "\n",
        "  nn_word = ''\n",
        "  for word, cos_sim in top10: # выбор неиспользованного слова\n",
        "    if ('_' not in word) and ('*' not in word) and (cos_sim>0.5):\n",
        "      if stemmer.stem(word) not in collection[chat_id]:\n",
        "        nn_word = word.lower()\n",
        "        break\n",
        "\n",
        "  if nn_word == '': # проверка существования слова\n",
        "    nn_word = 'I give up'\n",
        "\n",
        "  return nn_word\n",
        "\n",
        "\n",
        "def get_cos_sim(word1, word2, word3):\n",
        "  if (word1 in word2vec) and (word2 in word2vec) and (word3 in word2vec):\n",
        "    vec12 = np.array( word2vec[word1] + word2vec[word2] ) / 2\n",
        "    vec3 = np.array(word2vec[word3])\n",
        "    return cosine_similarity([vec12],[vec3])[0][0]\n",
        "  else:\n",
        "    return 0"
      ],
      "execution_count": null,
      "outputs": []
    },
    {
      "cell_type": "markdown",
      "metadata": {
        "id": "fAXq-7YrCiKh",
        "colab_type": "text"
      },
      "source": [
        "Запускаем бота:"
      ]
    },
    {
      "cell_type": "code",
      "metadata": {
        "id": "lsfG09aDY83z",
        "colab_type": "code",
        "colab": {}
      },
      "source": [
        "bot.polling()"
      ],
      "execution_count": null,
      "outputs": []
    },
    {
      "cell_type": "code",
      "metadata": {
        "id": "gP85ytV_fY7o",
        "colab_type": "code",
        "colab": {}
      },
      "source": [
        "history"
      ],
      "execution_count": null,
      "outputs": []
    },
    {
      "cell_type": "code",
      "metadata": {
        "id": "kuAomtMQ-42f",
        "colab_type": "code",
        "colab": {}
      },
      "source": [
        "collection"
      ],
      "execution_count": null,
      "outputs": []
    }
  ]
}